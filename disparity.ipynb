{
  "nbformat": 4,
  "nbformat_minor": 0,
  "metadata": {
    "colab": {
      "name": "disparity.ipynb",
      "provenance": [],
      "collapsed_sections": [],
      "include_colab_link": true
    },
    "kernelspec": {
      "name": "python3",
      "display_name": "Python 3"
    },
    "accelerator": "GPU"
  },
  "cells": [
    {
      "cell_type": "markdown",
      "metadata": {
        "id": "view-in-github",
        "colab_type": "text"
      },
      "source": [
        "<a href=\"https://colab.research.google.com/github/imenebak/Tp_traitement_images/blob/master/disparity.ipynb\" target=\"_parent\"><img src=\"https://colab.research.google.com/assets/colab-badge.svg\" alt=\"Open In Colab\"/></a>"
      ]
    },
    {
      "cell_type": "code",
      "metadata": {
        "id": "m1bB8ENkFBWY",
        "colab_type": "code",
        "colab": {}
      },
      "source": [
        "a = !wget http://vision.middlebury.edu/stereo/data/scenes2005/FullSize/Art/Illum3/Exp1/view5.png\n",
        "a = !wget http://vision.middlebury.edu/stereo/data/scenes2005/FullSize/Art/Illum3/Exp1/view0.png\n"
      ],
      "execution_count": 0,
      "outputs": []
    },
    {
      "cell_type": "code",
      "metadata": {
        "id": "UbgemeXXuEQ3",
        "colab_type": "code",
        "outputId": "d8f1967b-ec1a-4423-a5af-05a0ea68ce1f",
        "colab": {
          "base_uri": "https://localhost:8080/"
        }
      },
      "source": [
        "import numpy as np\n",
        "import cv2\n",
        "\n",
        "\n",
        "\n",
        "image_1 = cv2.imread(\"view5.png\")\n",
        "image_2 = cv2.imread(\"view0.png\")\n",
        "\n",
        "left_img= cv2.cvtColor(image_1, cv2.COLOR_BGR2GRAY)\n",
        "right_img= cv2.cvtColor(image_2, cv2.COLOR_BGR2GRAY)\n",
        "\n",
        "\n",
        "x,y=left_img.shape\n",
        "v,w=right_img.shape\n",
        "\n",
        "DisparityMatrix_left=np.zeros(left_img.shape, np.uint8)\n",
        "DisparityMatrix_right=np.zeros(right_img.shape, np.uint8)\n",
        "\n",
        "\n",
        "OcclusionCost = 20 #(You can adjust this, depending on how much threshold you want to give for noise)\n",
        "\n",
        "#For Dynamic Programming you have build a cost matrix. Its dimension will be numcols x numcols\n",
        "for all_rows in range (0,x):\n",
        "    #print all_rows\n",
        "    CostMatrix=np.zeros((y,y))\n",
        "    \n",
        "    DirectionMatrix = np.zeros((y,y))  #(This is important in Dynamic Programming. You need to know which direction you need traverse)\n",
        "    \n",
        "    #We first populate the first row and column values of Cost Matrix\n",
        "    \n",
        "    for i in range(0,y):\n",
        "        CostMatrix[i,0] = i*OcclusionCost\n",
        "        CostMatrix[0,i] = i*OcclusionCost\n",
        "        \n",
        "        #print np.abs((left_img[all_rows,0]-right_img[all_rows,0]))\n",
        "    \n",
        "    for i in range(0,y):\n",
        "        for j in range (0,y):\n",
        "            min1=CostMatrix[i-1,j-1]+np.abs((int(left_img[all_rows,i])-int(right_img[all_rows,j])))\n",
        "            min2=CostMatrix[i-1,j]+OcclusionCost\n",
        "            min3=CostMatrix[i,j-1]+OcclusionCost\n",
        "            cmin=np.min((min1,min2,min3))\n",
        "            \n",
        "            CostMatrix[i,j]=cmin\n",
        "            if min1==cmin:\n",
        "                DirectionMatrix[i,j]=1\n",
        "            if min2==cmin:\n",
        "                DirectionMatrix[i,j]=2\n",
        "            if min3==cmin:\n",
        "                DirectionMatrix[i,j]=3\n",
        "                   \n",
        "        #print DirectionMatrix\n",
        "        # Now, its time to populate the whole Cost Matrix and DirectionMatrix\n",
        "        \n",
        "        # Use the pseudocode from \"A Maximum likelihood Stereo Algorithm\" paper given as reference\n",
        "        p=y-1\n",
        "        q=y-1\n",
        "        \n",
        "        #print q\n",
        "        #print p\n",
        "\n",
        "    while ((p!=0) and (q!=0)):\n",
        "        #print \"Values for direction matrix\"\n",
        "        #print(DirectionMatrix[p,q])\n",
        "        if DirectionMatrix[p,q]==1:\n",
        "            #print(\"inside 1\")\n",
        "            DisparityMatrix_left[all_rows,p]=np.abs(p-q)\n",
        "            DisparityMatrix_right[all_rows,q]=np.abs(p-q)\n",
        "            p=p-1\n",
        "            q=q-1\n",
        "            \n",
        "        elif DirectionMatrix[p,q]==2:\n",
        "            #print(\"inside 2\")\n",
        "            p=p-1\n",
        "            # DisparityMatrix_left[all_rows,p]=np.abs(p-q)\n",
        "            \n",
        "           \n",
        "        elif DirectionMatrix[p,q]==3:\n",
        "            #print(\"inside 3\")\n",
        "            q=q-1\n",
        "            # DisparityMatrix_right[all_rows,q]=np.abs(p-q)\n",
        "           \n",
        "            \n",
        "    \n",
        "    #print \"Left\"\n",
        "    #print DisparityMatrix_left\n",
        "    #print \"Right\"\n",
        "    #print DisparityMatrix_right\n",
        "    \n",
        "print (DisparityMatrix_left)\n",
        "print (\"###################\")\n",
        "print (DisparityMatrix_right)\n",
        "\n",
        "  \n",
        "cv2.imshow(\"left image\",DisparityMatrix_left)\n",
        "cv2.imshow(\"right image\",DisparityMatrix_right)  \n",
        "             \n",
        "cv2.imwrite('img_L_DP.png',DisparityMatrix_left)\n",
        "cv2.imwrite('img_R_DP.png',DisparityMatrix_right)\n",
        "print (\"done\")"
      ],
      "execution_count": 0,
      "outputs": [
        {
          "output_type": "error",
          "ename": "KeyboardInterrupt",
          "evalue": "ignored",
          "traceback": [
            "\u001b[0;31m---------------------------------------------------------------------------\u001b[0m",
            "\u001b[0;31mKeyboardInterrupt\u001b[0m                         Traceback (most recent call last)",
            "\u001b[0;32m<ipython-input-10-021555679973>\u001b[0m in \u001b[0;36m<module>\u001b[0;34m()\u001b[0m\n\u001b[1;32m     40\u001b[0m             \u001b[0mmin2\u001b[0m\u001b[0;34m=\u001b[0m\u001b[0mCostMatrix\u001b[0m\u001b[0;34m[\u001b[0m\u001b[0mi\u001b[0m\u001b[0;34m-\u001b[0m\u001b[0;36m1\u001b[0m\u001b[0;34m,\u001b[0m\u001b[0mj\u001b[0m\u001b[0;34m]\u001b[0m\u001b[0;34m+\u001b[0m\u001b[0mOcclusionCost\u001b[0m\u001b[0;34m\u001b[0m\u001b[0;34m\u001b[0m\u001b[0m\n\u001b[1;32m     41\u001b[0m             \u001b[0mmin3\u001b[0m\u001b[0;34m=\u001b[0m\u001b[0mCostMatrix\u001b[0m\u001b[0;34m[\u001b[0m\u001b[0mi\u001b[0m\u001b[0;34m,\u001b[0m\u001b[0mj\u001b[0m\u001b[0;34m-\u001b[0m\u001b[0;36m1\u001b[0m\u001b[0;34m]\u001b[0m\u001b[0;34m+\u001b[0m\u001b[0mOcclusionCost\u001b[0m\u001b[0;34m\u001b[0m\u001b[0;34m\u001b[0m\u001b[0m\n\u001b[0;32m---> 42\u001b[0;31m             \u001b[0mcmin\u001b[0m\u001b[0;34m=\u001b[0m\u001b[0mnp\u001b[0m\u001b[0;34m.\u001b[0m\u001b[0mmin\u001b[0m\u001b[0;34m(\u001b[0m\u001b[0;34m(\u001b[0m\u001b[0mmin1\u001b[0m\u001b[0;34m,\u001b[0m\u001b[0mmin2\u001b[0m\u001b[0;34m,\u001b[0m\u001b[0mmin3\u001b[0m\u001b[0;34m)\u001b[0m\u001b[0;34m)\u001b[0m\u001b[0;34m\u001b[0m\u001b[0;34m\u001b[0m\u001b[0m\n\u001b[0m\u001b[1;32m     43\u001b[0m \u001b[0;34m\u001b[0m\u001b[0m\n\u001b[1;32m     44\u001b[0m             \u001b[0mCostMatrix\u001b[0m\u001b[0;34m[\u001b[0m\u001b[0mi\u001b[0m\u001b[0;34m,\u001b[0m\u001b[0mj\u001b[0m\u001b[0;34m]\u001b[0m\u001b[0;34m=\u001b[0m\u001b[0mcmin\u001b[0m\u001b[0;34m\u001b[0m\u001b[0;34m\u001b[0m\u001b[0m\n",
            "\u001b[0;32m<__array_function__ internals>\u001b[0m in \u001b[0;36mamin\u001b[0;34m(*args, **kwargs)\u001b[0m\n",
            "\u001b[0;32m/usr/local/lib/python3.6/dist-packages/numpy/core/fromnumeric.py\u001b[0m in \u001b[0;36mamin\u001b[0;34m(a, axis, out, keepdims, initial, where)\u001b[0m\n\u001b[1;32m   2744\u001b[0m     \"\"\"\n\u001b[1;32m   2745\u001b[0m     return _wrapreduction(a, np.minimum, 'min', axis, None, out,\n\u001b[0;32m-> 2746\u001b[0;31m                           keepdims=keepdims, initial=initial, where=where)\n\u001b[0m\u001b[1;32m   2747\u001b[0m \u001b[0;34m\u001b[0m\u001b[0m\n\u001b[1;32m   2748\u001b[0m \u001b[0;34m\u001b[0m\u001b[0m\n",
            "\u001b[0;32m/usr/local/lib/python3.6/dist-packages/numpy/core/fromnumeric.py\u001b[0m in \u001b[0;36m_wrapreduction\u001b[0;34m(obj, ufunc, method, axis, dtype, out, **kwargs)\u001b[0m\n\u001b[1;32m     88\u001b[0m                 \u001b[0;32mreturn\u001b[0m \u001b[0mreduction\u001b[0m\u001b[0;34m(\u001b[0m\u001b[0maxis\u001b[0m\u001b[0;34m=\u001b[0m\u001b[0maxis\u001b[0m\u001b[0;34m,\u001b[0m \u001b[0mout\u001b[0m\u001b[0;34m=\u001b[0m\u001b[0mout\u001b[0m\u001b[0;34m,\u001b[0m \u001b[0;34m**\u001b[0m\u001b[0mpasskwargs\u001b[0m\u001b[0;34m)\u001b[0m\u001b[0;34m\u001b[0m\u001b[0;34m\u001b[0m\u001b[0m\n\u001b[1;32m     89\u001b[0m \u001b[0;34m\u001b[0m\u001b[0m\n\u001b[0;32m---> 90\u001b[0;31m     \u001b[0;32mreturn\u001b[0m \u001b[0mufunc\u001b[0m\u001b[0;34m.\u001b[0m\u001b[0mreduce\u001b[0m\u001b[0;34m(\u001b[0m\u001b[0mobj\u001b[0m\u001b[0;34m,\u001b[0m \u001b[0maxis\u001b[0m\u001b[0;34m,\u001b[0m \u001b[0mdtype\u001b[0m\u001b[0;34m,\u001b[0m \u001b[0mout\u001b[0m\u001b[0;34m,\u001b[0m \u001b[0;34m**\u001b[0m\u001b[0mpasskwargs\u001b[0m\u001b[0;34m)\u001b[0m\u001b[0;34m\u001b[0m\u001b[0;34m\u001b[0m\u001b[0m\n\u001b[0m\u001b[1;32m     91\u001b[0m \u001b[0;34m\u001b[0m\u001b[0m\n\u001b[1;32m     92\u001b[0m \u001b[0;34m\u001b[0m\u001b[0m\n",
            "\u001b[0;31mKeyboardInterrupt\u001b[0m: "
          ]
        }
      ]
    },
    {
      "cell_type": "code",
      "metadata": {
        "id": "s7rBBHXI8joQ",
        "colab_type": "code",
        "outputId": "07ab9ff6-3b77-46e7-c368-9021075b7742",
        "colab": {
          "base_uri": "https://localhost:8080/",
          "height": 265
        }
      },
      "source": [
        "import numpy as np\n",
        "import cv2\n",
        "\n",
        "\n",
        "image_1 = cv2.imread('view0.png')\n",
        "image_2= cv2.imread('view5.png')\n",
        "left_img= cv2.cvtColor(image_1, cv2.COLOR_BGR2GRAY)\n",
        "right_img= cv2.cvtColor(image_2, cv2.COLOR_BGR2GRAY)\n",
        "#cv2.imwrite('view1_gray.png',left_img)\n",
        "#cv2.imwrite('view5_gray.png',right_img)\n",
        "\n",
        "x,y=left_img.shape\n",
        "v,w=right_img.shape\n",
        "print (\"left image dimension\",x,y)\n",
        "print (\"right image dimension\",v,w)\n",
        "\n",
        "DisparityMatrix_left=np.zeros(left_img.shape, np.uint8)\n",
        "DisparityMatrix_right=np.zeros(right_img.shape, np.uint8)\n",
        "DisparityMatrix_left.astype(int)\n",
        "DisparityMatrix_right.astype(int)\n",
        "\n",
        "#Disparité pour Image de gauche\n",
        "\n",
        "threshold = 20 \n",
        "\n",
        "#la dimension :numcols x numcols\n",
        "for all_rows in range (0,x):\n",
        "    #print (all_rows)\n",
        "    CostMatrix=np.zeros((y,y))\n",
        "    \n",
        "    DirectionMatrix = np.zeros((y,y))  \n",
        "    \n",
        "    #on comence par les valeurs de la premiere row et column \n",
        "    \n",
        "    for i in range(0,y):\n",
        "        CostMatrix[i,0] = i*threshold\n",
        "        CostMatrix[0,i] = i*threshold\n",
        "        \n",
        "        \n",
        "    \n",
        "    for i in range(0,y):\n",
        "        for j in range (0,y):\n",
        "            min1=CostMatrix[i-1,j-1]+np.abs((int(left_img[all_rows,i])-int(right_img[all_rows,j])))\n",
        "            min2=CostMatrix[i-1,j]+threshold\n",
        "            min3=CostMatrix[i,j-1]+threshold\n",
        "            cmin=np.min((min1,min2,min3))\n",
        "            \n",
        "            CostMatrix[i,j]=cmin\n",
        "            if min1==cmin:\n",
        "                DirectionMatrix[i,j]=1\n",
        "            if min2==cmin:\n",
        "                DirectionMatrix[i,j]=2\n",
        "            if min3==cmin:\n",
        "                DirectionMatrix[i,j]=3\n",
        "                   \n",
        "\n",
        "        p=y-1\n",
        "        q=y-1\n",
        "        \n",
        "       \n",
        "\n",
        "    while ((p!=0) and (q!=0)):\n",
        "        #print (\"Values for direction matrix\")\n",
        "        #print(DirectionMatrix[p,q])\n",
        "        if DirectionMatrix[p,q]==1:\n",
        "            #print(\"inside 1\")\n",
        "            DisparityMatrix_left[all_rows,p]=np.abs(p-q)\n",
        "            DisparityMatrix_right[all_rows,q]=np.abs(p-q)\n",
        "            p=p-1\n",
        "            q=q-1\n",
        "            \n",
        "        elif DirectionMatrix[p,q]==2:\n",
        "            #print(\"inside 2\")\n",
        "            p=p-1\n",
        "            DisparityMatrix_left[all_rows,p]=np.abs(p-q)\n",
        "            \n",
        "           \n",
        "        elif DirectionMatrix[p,q]==3:\n",
        "            #print(\"inside 3\")\n",
        "            q=q-1\n",
        "            DisparityMatrix_right[all_rows,q]=np.abs(p-q)\n",
        "           \n",
        "            \n",
        "    \n",
        "    #print (\"Left\")\n",
        "    #print (DisparityMatrix_left)\n",
        "    #print (\"Right\")\n",
        "    #print (DisparityMatrix_right)\n",
        "    \n",
        "print (DisparityMatrix_left)\n",
        "print (\"###################\")\n",
        "print (DisparityMatrix_right)\n",
        "\n",
        "  \n",
        "cv2.imshow(\"left image\",DisparityMatrix_left)\n",
        "cv2.imshow(\"right image\",DisparityMatrix_right)  \n",
        "             \n",
        "cv2.imwrite('img_L_DP.png',DisparityMatrix_left)\n",
        "cv2.imwrite('img_R_DP.png',DisparityMatrix_right)\n",
        "print (\"done\")\n",
        "\n",
        "\n",
        "   \n",
        "def mean_square_error(disparity_map, ground_truth):\n",
        "\n",
        "    mse = np.mean((disparity_map - ground_truth)**2)\n",
        "    return mse\n",
        "\n",
        "def mean_abs_error(disparity_map, ground_truth):\n",
        "\n",
        "    mse = np.mean(abs(disparity_map - ground_truth))\n",
        "    return mse\n",
        "\n",
        "def mean_sqrt_error(disparity_map, ground_truth):\n",
        "\n",
        "    mse = (np.mean(disparity_map - ground_truth))/(np.mean(np.sqrt(disparity_map - ground_truth)))\n",
        "    return mse    \n",
        "    \n",
        "    \n",
        "    # Mean Squared Error\n",
        "ground_truth_1 = cv2.imread('disp1.png', cv2.IMREAD_GRAYSCALE)\n",
        "ground_truth_2 = cv2.imread('disp5.png', cv2.IMREAD_GRAYSCALE)\n",
        "\n",
        "mse_9_lr = mean_square_error(DisparityMatrix_left, ground_truth_1)\n",
        "print('mesure block de 9 ', mse_9_lr)\n",
        "\n",
        "mse_9_rl = mean_square_error(DisparityMatrix_right, ground_truth_2)\n",
        "print('mesure block de 9 ', mse_9_rl)\n",
        "    \n",
        "\n",
        "\n",
        "\n",
        "mse_9_lr = mean_abs_error(DisparityMatrix_left, ground_truth_1)\n",
        "print('mesure abs block de 9 ', mse_9_lr)\n",
        "\n",
        "mse_9_rl = mean_abs_error(DisparityMatrix_right, ground_truth_2)\n",
        "print('mesure abs block de 9 ', mse_9_rl)\n",
        "    \n",
        "\n",
        "\n",
        "\n",
        "\n",
        "mse_9_lr = mean_sqrt_error(DisparityMatrix_left, ground_truth_1)\n",
        "print('mesure sqrt block de 9 ', mse_9_lr)\n",
        "\n",
        "mse_9_rl = mean_abs_error(DisparityMatrix_right, ground_truth_2)\n",
        "print('mesure sqrt block de 9 ', mse_9_rl)\n"
      ],
      "execution_count": 0,
      "outputs": [
        {
          "output_type": "stream",
          "text": [
            "left image dimension 1110 1390\n",
            "right image dimension 1110 1390\n"
          ],
          "name": "stdout"
        },
        {
          "output_type": "error",
          "ename": "KeyboardInterrupt",
          "evalue": "ignored",
          "traceback": [
            "\u001b[0;31m---------------------------------------------------------------------------\u001b[0m",
            "\u001b[0;31mKeyboardInterrupt\u001b[0m                         Traceback (most recent call last)",
            "\u001b[0;32m<ipython-input-11-8de93a049ba9>\u001b[0m in \u001b[0;36m<module>\u001b[0;34m()\u001b[0m\n\u001b[1;32m     43\u001b[0m             \u001b[0mmin1\u001b[0m\u001b[0;34m=\u001b[0m\u001b[0mCostMatrix\u001b[0m\u001b[0;34m[\u001b[0m\u001b[0mi\u001b[0m\u001b[0;34m-\u001b[0m\u001b[0;36m1\u001b[0m\u001b[0;34m,\u001b[0m\u001b[0mj\u001b[0m\u001b[0;34m-\u001b[0m\u001b[0;36m1\u001b[0m\u001b[0;34m]\u001b[0m\u001b[0;34m+\u001b[0m\u001b[0mnp\u001b[0m\u001b[0;34m.\u001b[0m\u001b[0mabs\u001b[0m\u001b[0;34m(\u001b[0m\u001b[0;34m(\u001b[0m\u001b[0mint\u001b[0m\u001b[0;34m(\u001b[0m\u001b[0mleft_img\u001b[0m\u001b[0;34m[\u001b[0m\u001b[0mall_rows\u001b[0m\u001b[0;34m,\u001b[0m\u001b[0mi\u001b[0m\u001b[0;34m]\u001b[0m\u001b[0;34m)\u001b[0m\u001b[0;34m-\u001b[0m\u001b[0mint\u001b[0m\u001b[0;34m(\u001b[0m\u001b[0mright_img\u001b[0m\u001b[0;34m[\u001b[0m\u001b[0mall_rows\u001b[0m\u001b[0;34m,\u001b[0m\u001b[0mj\u001b[0m\u001b[0;34m]\u001b[0m\u001b[0;34m)\u001b[0m\u001b[0;34m)\u001b[0m\u001b[0;34m)\u001b[0m\u001b[0;34m\u001b[0m\u001b[0;34m\u001b[0m\u001b[0m\n\u001b[1;32m     44\u001b[0m             \u001b[0mmin2\u001b[0m\u001b[0;34m=\u001b[0m\u001b[0mCostMatrix\u001b[0m\u001b[0;34m[\u001b[0m\u001b[0mi\u001b[0m\u001b[0;34m-\u001b[0m\u001b[0;36m1\u001b[0m\u001b[0;34m,\u001b[0m\u001b[0mj\u001b[0m\u001b[0;34m]\u001b[0m\u001b[0;34m+\u001b[0m\u001b[0mthreshold\u001b[0m\u001b[0;34m\u001b[0m\u001b[0;34m\u001b[0m\u001b[0m\n\u001b[0;32m---> 45\u001b[0;31m             \u001b[0mmin3\u001b[0m\u001b[0;34m=\u001b[0m\u001b[0mCostMatrix\u001b[0m\u001b[0;34m[\u001b[0m\u001b[0mi\u001b[0m\u001b[0;34m,\u001b[0m\u001b[0mj\u001b[0m\u001b[0;34m-\u001b[0m\u001b[0;36m1\u001b[0m\u001b[0;34m]\u001b[0m\u001b[0;34m+\u001b[0m\u001b[0mthreshold\u001b[0m\u001b[0;34m\u001b[0m\u001b[0;34m\u001b[0m\u001b[0m\n\u001b[0m\u001b[1;32m     46\u001b[0m             \u001b[0mcmin\u001b[0m\u001b[0;34m=\u001b[0m\u001b[0mnp\u001b[0m\u001b[0;34m.\u001b[0m\u001b[0mmin\u001b[0m\u001b[0;34m(\u001b[0m\u001b[0;34m(\u001b[0m\u001b[0mmin1\u001b[0m\u001b[0;34m,\u001b[0m\u001b[0mmin2\u001b[0m\u001b[0;34m,\u001b[0m\u001b[0mmin3\u001b[0m\u001b[0;34m)\u001b[0m\u001b[0;34m)\u001b[0m\u001b[0;34m\u001b[0m\u001b[0;34m\u001b[0m\u001b[0m\n\u001b[1;32m     47\u001b[0m \u001b[0;34m\u001b[0m\u001b[0m\n",
            "\u001b[0;31mKeyboardInterrupt\u001b[0m: "
          ]
        }
      ]
    },
    {
      "cell_type": "code",
      "metadata": {
        "id": "VJXZ5SQKODEX",
        "colab_type": "code",
        "outputId": "29ee034c-7cbd-4570-edf3-c3a6552f3ca4",
        "colab": {
          "base_uri": "https://localhost:8080/",
          "height": 286
        }
      },
      "source": [
        "import numpy as np\n",
        "import cv2 as cv\n",
        "from matplotlib import pyplot as plt\n",
        "imgL = cv.imread('view0.png',0)\n",
        "imgR = cv.imread('view5.png',0)\n",
        "stereo = cv.StereoBM_create(numDisparities=16, blockSize=15)\n",
        "disparity1 = stereo.compute(imgL,imgR)\n",
        "plt.imshow(disparity,'gray')\n",
        "plt.show()\n",
        "\n",
        "\"\"\"https://albertarmea.com/post/opencv-stereo-camera/\"\"\"\n",
        "\"\"\"https://robotacademy.net.au/lesson/computing-disparity/\"\"\"\n"
      ],
      "execution_count": 0,
      "outputs": [
        {
          "output_type": "display_data",
          "data": {
            "image/png": "[encoded data removed]",
            "text/plain": [
              "<Figure size 432x288 with 1 Axes>"
            ]
          },
          "metadata": {
            "tags": []
          }
        },
        {
          "output_type": "execute_result",
          "data": {
            "text/plain": [
              "'https://robotacademy.net.au/lesson/computing-disparity/'"
            ]
          },
          "metadata": {
            "tags": []
          },
          "execution_count": 14
        }
      ]
    },
    {
      "cell_type": "code",
      "metadata": {
        "id": "6UfaiP4nCFQU",
        "colab_type": "code",
        "colab": {}
      },
      "source": [
        "from google.colab import drive\n",
        "drive.mount('/content/drive')"
      ],
      "execution_count": 0,
      "outputs": []
    },
    {
      "cell_type": "code",
      "metadata": {
        "id": "dSerM5b56zdX",
        "colab_type": "code",
        "outputId": "e3534370-7b0a-4a02-97fe-9509361fcb4f",
        "colab": {
          "resources": {
            "http://localhost:8080/nbextensions/google.colab/files.js": {
              "data": "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",
              "ok": true,
              "headers": [
                [
                  "content-type",
                  "application/javascript"
                ]
              ],
              "status": 200,
              "status_text": ""
            }
          },
          "base_uri": "https://localhost:8080/",
          "height": 40
        }
      },
      "source": [
        "from google.colab import files \n",
        "uploaded = files.upload() \n"
      ],
      "execution_count": 0,
      "outputs": [
        {
          "output_type": "display_data",
          "data": {
            "text/html": [
              "\n",
              "     <input type=\"file\" id=\"files-d4fd077d-0e12-4d2a-8481-4a696fee729f\" name=\"files[]\" multiple disabled />\n",
              "     <output id=\"result-d4fd077d-0e12-4d2a-8481-4a696fee729f\">\n",
              "      Upload widget is only available when the cell has been executed in the\n",
              "      current browser session. Please rerun this cell to enable.\n",
              "      </output>\n",
              "      <script src=\"/nbextensions/google.colab/files.js\"></script> "
            ],
            "text/plain": [
              "<IPython.core.display.HTML object>"
            ]
          },
          "metadata": {
            "tags": []
          }
        }
      ]
    }
  ]
}